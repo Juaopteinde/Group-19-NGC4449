{
 "cells": [
  {
   "cell_type": "code",
   "execution_count": null,
   "metadata": {},
   "outputs": [],
   "source": [
    "from astropy.io import fits #to read in FITS files\n",
    "import os # os.path to manipulate file paths \n",
    "import glob # finding pathnames (to search for certain fits files in folders and subfolders)\n",
    "import numpy as np # math applied to arrays (important, no need to read pixel for pixel!)\n",
    "from matplotlib import pyplot as plt #plot library \n",
    "from astropy.visualization import ZScaleInterval #create minimum and maximum Z values for plotting \n"
   ]
  },
  {
   "cell_type": "markdown",
   "metadata": {},
   "source": [
    "Below code for aligning images"
   ]
  },
  {
   "cell_type": "markdown",
   "metadata": {},
   "source": []
  }
 ],
 "metadata": {
  "kernelspec": {
   "display_name": "base",
   "language": "python",
   "name": "python3"
  },
  "language_info": {
   "name": "python",
   "version": "3.11.4"
  }
 },
 "nbformat": 4,
 "nbformat_minor": 2
}
